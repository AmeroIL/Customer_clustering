{
 "cells": [
  {
   "cell_type": "markdown",
   "id": "e64d90b3",
   "metadata": {},
   "source": [
    "# Unsupervised Learning - Clustering - Credit Card Customer Data\n",
    "\n",
    "\n",
    "#### Brief description of the data set and its attributes:\n",
    "\n",
    "The Attributes Include:\n",
    "\n",
    "* Sl_No - Customer Serial Identification Number: Serves purpose of indexing values\n",
    "* Customer Key - Customer Key\n",
    "* AvgCreditLimit - Average Credit Card Limit For The Customer\n",
    "* TotalCreditCards - Total Credit Cards Owned by the Customer\n",
    "* Totalvisitsbank - Total Number of Bank Visits by the Customer\n",
    "* Totalvisitsonline - Total Visits Online by the Bank Customer\n",
    "* Totalcallsmade - Total Calls Made by the Customer to the Bank\n",
    "    \n",
    "at first glance we can segment the 5 features that i will use to 2 main groups\n",
    "\n",
    "1. Credit card usage - 2 features- AvgCreditLimit, TotalCreditCards\n",
    "2. service/marketing channels used - 3 features - Totalvisitsbank, Totalvisitsonline, Totalcallsmade\n",
    "    \n",
    "at first we can use basic EDA segmentation - distribution of Credit cards, Average limit\n",
    "\n",
    "    \n",
    "#### in  Total - 7 rows × 660 columns\n",
    "\n",
    "#### Main objective will focus on Clustering the customers\n",
    "\n",
    "I would like to set the main objective to be basic segmentation of the customers - Clustering.\n",
    "since the numbers of features that i will use - 5 in total(Sl_no & customer Key are not relevant) - there is no need to user dimensionality reduction.\n",
    "\n",
    "looking at the data itself - it will be required to scale the data - since AvgCreditLimit is around \n",
    "\n",
    "furthermore,\n",
    "I would like to segment them and understand how the features effect the clustering, \n",
    "\n",
    "Main Benefits:\n",
    "since features like visits/calls can make a great deal on understanding in which marketing/service channel we should focus by that we can understand by the number of Credit cards and the limit which are the \"top\" customers and which channels they use.\n",
    "\n",
    "all the above and the changes made to the service channel can increase \"Sales\" - in the forms of credit limit increase/# cards increase\n",
    " \n",
    " \n",
    "In this is notebook i will use 2 main models\n",
    "\n",
    "1. K-Means - running all inertia scores up to k=10 \n",
    "2. Agglomerative Clustering with n=2,3,4\n",
    "\n",
    "\n",
    "let's begin...\n",
    "\n",
    "---"
   ]
  },
  {
   "cell_type": "markdown",
   "id": "435279e9",
   "metadata": {},
   "source": [
    "# Part 1a(Cleaning/Preparation):"
   ]
  },
  {
   "cell_type": "code",
   "execution_count": 1,
   "id": "87bc6728",
   "metadata": {},
   "outputs": [
    {
     "data": {
      "text/plain": [
       "<bound method Series.unique of 0      87073\n",
       "1      38414\n",
       "2      17341\n",
       "3      40496\n",
       "4      47437\n",
       "       ...  \n",
       "655    51108\n",
       "656    60732\n",
       "657    53834\n",
       "658    80655\n",
       "659    80150\n",
       "Name: Customer Key, Length: 660, dtype: int64>"
      ]
     },
     "execution_count": 1,
     "metadata": {},
     "output_type": "execute_result"
    }
   ],
   "source": [
    "import pandas as pd\n",
    "import numpy as np\n",
    "import matplotlib.pyplot as plt, seaborn as sns\n",
    "#%matplotlib inline\n",
    "\n",
    "#import the dataframe from the file\n",
    "df = pd.read_csv('Credit Card Customer Data.csv')\n",
    "#check for values that are not unique in the Customer Key\n",
    "df['Customer Key'].unique"
   ]
  },
  {
   "cell_type": "code",
   "execution_count": 2,
   "id": "9efab759",
   "metadata": {},
   "outputs": [
    {
     "data": {
      "text/html": [
       "<div>\n",
       "<style scoped>\n",
       "    .dataframe tbody tr th:only-of-type {\n",
       "        vertical-align: middle;\n",
       "    }\n",
       "\n",
       "    .dataframe tbody tr th {\n",
       "        vertical-align: top;\n",
       "    }\n",
       "\n",
       "    .dataframe thead th {\n",
       "        text-align: right;\n",
       "    }\n",
       "</style>\n",
       "<table border=\"1\" class=\"dataframe\">\n",
       "  <thead>\n",
       "    <tr style=\"text-align: right;\">\n",
       "      <th></th>\n",
       "      <th>Avg_Credit_Limit</th>\n",
       "      <th>Total_Credit_Cards</th>\n",
       "      <th>Total_visits_bank</th>\n",
       "      <th>Total_visits_online</th>\n",
       "      <th>Total_calls_made</th>\n",
       "    </tr>\n",
       "  </thead>\n",
       "  <tbody>\n",
       "    <tr>\n",
       "      <th>0</th>\n",
       "      <td>100000</td>\n",
       "      <td>2</td>\n",
       "      <td>1</td>\n",
       "      <td>1</td>\n",
       "      <td>0</td>\n",
       "    </tr>\n",
       "    <tr>\n",
       "      <th>1</th>\n",
       "      <td>50000</td>\n",
       "      <td>3</td>\n",
       "      <td>0</td>\n",
       "      <td>10</td>\n",
       "      <td>9</td>\n",
       "    </tr>\n",
       "    <tr>\n",
       "      <th>2</th>\n",
       "      <td>50000</td>\n",
       "      <td>7</td>\n",
       "      <td>1</td>\n",
       "      <td>3</td>\n",
       "      <td>4</td>\n",
       "    </tr>\n",
       "    <tr>\n",
       "      <th>3</th>\n",
       "      <td>30000</td>\n",
       "      <td>5</td>\n",
       "      <td>1</td>\n",
       "      <td>1</td>\n",
       "      <td>4</td>\n",
       "    </tr>\n",
       "    <tr>\n",
       "      <th>4</th>\n",
       "      <td>100000</td>\n",
       "      <td>6</td>\n",
       "      <td>0</td>\n",
       "      <td>12</td>\n",
       "      <td>3</td>\n",
       "    </tr>\n",
       "    <tr>\n",
       "      <th>...</th>\n",
       "      <td>...</td>\n",
       "      <td>...</td>\n",
       "      <td>...</td>\n",
       "      <td>...</td>\n",
       "      <td>...</td>\n",
       "    </tr>\n",
       "    <tr>\n",
       "      <th>655</th>\n",
       "      <td>99000</td>\n",
       "      <td>10</td>\n",
       "      <td>1</td>\n",
       "      <td>10</td>\n",
       "      <td>0</td>\n",
       "    </tr>\n",
       "    <tr>\n",
       "      <th>656</th>\n",
       "      <td>84000</td>\n",
       "      <td>10</td>\n",
       "      <td>1</td>\n",
       "      <td>13</td>\n",
       "      <td>2</td>\n",
       "    </tr>\n",
       "    <tr>\n",
       "      <th>657</th>\n",
       "      <td>145000</td>\n",
       "      <td>8</td>\n",
       "      <td>1</td>\n",
       "      <td>9</td>\n",
       "      <td>1</td>\n",
       "    </tr>\n",
       "    <tr>\n",
       "      <th>658</th>\n",
       "      <td>172000</td>\n",
       "      <td>10</td>\n",
       "      <td>1</td>\n",
       "      <td>15</td>\n",
       "      <td>0</td>\n",
       "    </tr>\n",
       "    <tr>\n",
       "      <th>659</th>\n",
       "      <td>167000</td>\n",
       "      <td>9</td>\n",
       "      <td>0</td>\n",
       "      <td>12</td>\n",
       "      <td>2</td>\n",
       "    </tr>\n",
       "  </tbody>\n",
       "</table>\n",
       "<p>660 rows × 5 columns</p>\n",
       "</div>"
      ],
      "text/plain": [
       "     Avg_Credit_Limit  Total_Credit_Cards  Total_visits_bank  \\\n",
       "0              100000                   2                  1   \n",
       "1               50000                   3                  0   \n",
       "2               50000                   7                  1   \n",
       "3               30000                   5                  1   \n",
       "4              100000                   6                  0   \n",
       "..                ...                 ...                ...   \n",
       "655             99000                  10                  1   \n",
       "656             84000                  10                  1   \n",
       "657            145000                   8                  1   \n",
       "658            172000                  10                  1   \n",
       "659            167000                   9                  0   \n",
       "\n",
       "     Total_visits_online  Total_calls_made  \n",
       "0                      1                 0  \n",
       "1                     10                 9  \n",
       "2                      3                 4  \n",
       "3                      1                 4  \n",
       "4                     12                 3  \n",
       "..                   ...               ...  \n",
       "655                   10                 0  \n",
       "656                   13                 2  \n",
       "657                    9                 1  \n",
       "658                   15                 0  \n",
       "659                   12                 2  \n",
       "\n",
       "[660 rows x 5 columns]"
      ]
     },
     "execution_count": 2,
     "metadata": {},
     "output_type": "execute_result"
    }
   ],
   "source": [
    "#remove 2 columns that are not actual data features \n",
    "df = df.drop(columns=['Sl_No','Customer Key'])\n",
    "df\n",
    "# we have now the dataset without the columns that are not relevant for the modeling"
   ]
  },
  {
   "cell_type": "code",
   "execution_count": 3,
   "id": "9bad19d0",
   "metadata": {
    "scrolled": true
   },
   "outputs": [
    {
     "data": {
      "text/plain": [
       "Avg_Credit_Limit       660\n",
       "Total_Credit_Cards     660\n",
       "Total_visits_bank      660\n",
       "Total_visits_online    660\n",
       "Total_calls_made       660\n",
       "dtype: int64"
      ]
     },
     "execution_count": 3,
     "metadata": {},
     "output_type": "execute_result"
    }
   ],
   "source": [
    "#check for null values\n",
    "df.notna().sum()"
   ]
  },
  {
   "cell_type": "code",
   "execution_count": 5,
   "id": "c8778ed7",
   "metadata": {},
   "outputs": [
    {
     "data": {
      "text/plain": [
       "(660, 5)"
      ]
     },
     "execution_count": 5,
     "metadata": {},
     "output_type": "execute_result"
    }
   ],
   "source": [
    "df.shape"
   ]
  },
  {
   "cell_type": "code",
   "execution_count": 4,
   "id": "a862f04e",
   "metadata": {},
   "outputs": [
    {
     "data": {
      "text/plain": [
       "Avg_Credit_Limit       int64\n",
       "Total_Credit_Cards     int64\n",
       "Total_visits_bank      int64\n",
       "Total_visits_online    int64\n",
       "Total_calls_made       int64\n",
       "dtype: object"
      ]
     },
     "execution_count": 4,
     "metadata": {},
     "output_type": "execute_result"
    }
   ],
   "source": [
    "df.dtypes\n",
    "#since no further cleaning/feature engineering is required - we will move on to the next step"
   ]
  },
  {
   "cell_type": "markdown",
   "id": "a9108c84",
   "metadata": {},
   "source": [
    "---------------------------------------\n",
    "\n",
    "# Part 1b(EDA):"
   ]
  },
  {
   "cell_type": "code",
   "execution_count": 7,
   "id": "55109194",
   "metadata": {},
   "outputs": [
    {
     "data": {
      "text/plain": [
       "array([  3000,   5000,   6000,   7000,   8000,   9000,  10000,  11000,\n",
       "        12000,  13000,  14000,  15000,  16000,  17000,  18000,  19000,\n",
       "        20000,  25000,  26000,  27000,  28000,  29000,  30000,  31000,\n",
       "        32000,  33000,  34000,  35000,  36000,  37000,  38000,  39000,\n",
       "        40000,  41000,  42000,  43000,  44000,  45000,  46000,  47000,\n",
       "        48000,  49000,  50000,  51000,  52000,  54000,  55000,  56000,\n",
       "        57000,  58000,  59000,  60000,  61000,  62000,  63000,  64000,\n",
       "        65000,  66000,  67000,  68000,  69000,  70000,  71000,  72000,\n",
       "        73000,  74000,  75000,  84000,  91000,  94000,  95000,  96000,\n",
       "        97000,  98000,  99000, 100000, 106000, 108000, 111000, 112000,\n",
       "       114000, 121000, 123000, 126000, 127000, 131000, 132000, 136000,\n",
       "       144000, 145000, 146000, 153000, 155000, 156000, 157000, 158000,\n",
       "       163000, 166000, 167000, 171000, 172000, 173000, 176000, 178000,\n",
       "       183000, 184000, 186000, 187000, 195000, 200000])"
      ]
     },
     "execution_count": 7,
     "metadata": {},
     "output_type": "execute_result"
    }
   ],
   "source": [
    "# before training the models i would like to understand furtermore the data\n",
    "\n",
    "#will check to see what unique values for the 'Avg_Credit_Limit' Feature\n",
    "df.Avg_Credit_Limit.sort_values(ascending=True).unique()"
   ]
  },
  {
   "cell_type": "code",
   "execution_count": 8,
   "id": "5dc34908",
   "metadata": {},
   "outputs": [
    {
     "data": {
      "text/plain": [
       "8000      35\n",
       "6000      31\n",
       "9000      28\n",
       "13000     28\n",
       "19000     26\n",
       "          ..\n",
       "43000      1\n",
       "146000     1\n",
       "155000     1\n",
       "200000     1\n",
       "167000     1\n",
       "Name: Avg_Credit_Limit, Length: 110, dtype: int64"
      ]
     },
     "execution_count": 8,
     "metadata": {},
     "output_type": "execute_result"
    }
   ],
   "source": [
    "# brief overview of Credit card limit value counts\n",
    "df.Avg_Credit_Limit.value_counts()"
   ]
  },
  {
   "cell_type": "code",
   "execution_count": 9,
   "id": "2ba93d46",
   "metadata": {},
   "outputs": [
    {
     "data": {
      "text/plain": [
       "<bound method Series.sort_values of 4     151\n",
       "6     117\n",
       "7     101\n",
       "5      74\n",
       "2      64\n",
       "1      59\n",
       "3      53\n",
       "10     19\n",
       "9      11\n",
       "8      11\n",
       "Name: Total_Credit_Cards, dtype: int64>"
      ]
     },
     "execution_count": 9,
     "metadata": {},
     "output_type": "execute_result"
    }
   ],
   "source": [
    "#display the Dist using Pandas of credit cards - \n",
    "df.Total_Credit_Cards.value_counts().sort_values"
   ]
  },
  {
   "cell_type": "code",
   "execution_count": 18,
   "id": "ceb914ea",
   "metadata": {},
   "outputs": [
    {
     "data": {
      "image/png": "[encoded data removed]",
      "text/plain": [
       "<Figure size 432x288 with 1 Axes>"
      ]
     },
     "metadata": {
      "needs_background": "light"
     },
     "output_type": "display_data"
    }
   ],
   "source": [
    "#plot the distribution of # of credit cards vs # of customers holding those credit cards\n",
    "plt.hist(df.Total_Credit_Cards)\n",
    "plt.xlabel('# of cards')\n",
    "plt.ylabel('# of customers')\n",
    "plt.show()"
   ]
  },
  {
   "cell_type": "code",
   "execution_count": 17,
   "id": "80a1039a",
   "metadata": {},
   "outputs": [
    {
     "data": {
      "image/png": "[encoded data removed]",
      "text/plain": [
       "<Figure size 432x288 with 1 Axes>"
      ]
     },
     "metadata": {
      "needs_background": "light"
     },
     "output_type": "display_data"
    }
   ],
   "source": [
    "#plot the historgram of average credit limit\n",
    "plt.hist(df.Avg_Credit_Limit, bins=10)\n",
    "plt.title(\"Historgram of average credit limit\")\n",
    "plt.xlabel('Credit Limit')\n",
    "plt.ylabel('# of customers')\n",
    "plt.show()\n",
    "#we can see that most of the customer are on the left side - which makes sense"
   ]
  },
  {
   "cell_type": "code",
   "execution_count": 12,
   "id": "30989ea0",
   "metadata": {},
   "outputs": [
    {
     "data": {
      "text/html": [
       "<style type=\"text/css\">\n",
       "#T_49bb0_row0_col0, #T_49bb0_row1_col1, #T_49bb0_row2_col2, #T_49bb0_row3_col3, #T_49bb0_row4_col4 {\n",
       "  background-color: #3b4cc0;\n",
       "  color: #f1f1f1;\n",
       "}\n",
       "#T_49bb0_row0_col1 {\n",
       "  background-color: #cb3e38;\n",
       "  color: #f1f1f1;\n",
       "}\n",
       "#T_49bb0_row0_col2 {\n",
       "  background-color: #7597f6;\n",
       "  color: #f1f1f1;\n",
       "}\n",
       "#T_49bb0_row0_col3, #T_49bb0_row1_col0, #T_49bb0_row1_col4, #T_49bb0_row2_col3, #T_49bb0_row3_col2, #T_49bb0_row4_col1 {\n",
       "  background-color: #b40426;\n",
       "  color: #f1f1f1;\n",
       "}\n",
       "#T_49bb0_row0_col4 {\n",
       "  background-color: #f5c1a9;\n",
       "  color: #000000;\n",
       "}\n",
       "#T_49bb0_row1_col2 {\n",
       "  background-color: #edd1c2;\n",
       "  color: #000000;\n",
       "}\n",
       "#T_49bb0_row1_col3 {\n",
       "  background-color: #9fbfff;\n",
       "  color: #000000;\n",
       "}\n",
       "#T_49bb0_row2_col0 {\n",
       "  background-color: #6f92f3;\n",
       "  color: #f1f1f1;\n",
       "}\n",
       "#T_49bb0_row2_col1 {\n",
       "  background-color: #d9dce1;\n",
       "  color: #000000;\n",
       "}\n",
       "#T_49bb0_row2_col4 {\n",
       "  background-color: #f18f71;\n",
       "  color: #f1f1f1;\n",
       "}\n",
       "#T_49bb0_row3_col0 {\n",
       "  background-color: #d55042;\n",
       "  color: #f1f1f1;\n",
       "}\n",
       "#T_49bb0_row3_col1 {\n",
       "  background-color: #8fb1fe;\n",
       "  color: #000000;\n",
       "}\n",
       "#T_49bb0_row3_col4 {\n",
       "  background-color: #7a9df8;\n",
       "  color: #f1f1f1;\n",
       "}\n",
       "#T_49bb0_row4_col0 {\n",
       "  background-color: #f7b396;\n",
       "  color: #000000;\n",
       "}\n",
       "#T_49bb0_row4_col2 {\n",
       "  background-color: #d1493f;\n",
       "  color: #f1f1f1;\n",
       "}\n",
       "#T_49bb0_row4_col3 {\n",
       "  background-color: #86a9fc;\n",
       "  color: #f1f1f1;\n",
       "}\n",
       "</style>\n",
       "<table id=\"T_49bb0_\">\n",
       "  <thead>\n",
       "    <tr>\n",
       "      <th class=\"blank level0\" >&nbsp;</th>\n",
       "      <th class=\"col_heading level0 col0\" >Avg_Credit_Limit</th>\n",
       "      <th class=\"col_heading level0 col1\" >Total_Credit_Cards</th>\n",
       "      <th class=\"col_heading level0 col2\" >Total_visits_bank</th>\n",
       "      <th class=\"col_heading level0 col3\" >Total_visits_online</th>\n",
       "      <th class=\"col_heading level0 col4\" >Total_calls_made</th>\n",
       "    </tr>\n",
       "  </thead>\n",
       "  <tbody>\n",
       "    <tr>\n",
       "      <th id=\"T_49bb0_level0_row0\" class=\"row_heading level0 row0\" >Avg_Credit_Limit</th>\n",
       "      <td id=\"T_49bb0_row0_col0\" class=\"data row0 col0\" >0.000000</td>\n",
       "      <td id=\"T_49bb0_row0_col1\" class=\"data row0 col1\" >0.608860</td>\n",
       "      <td id=\"T_49bb0_row0_col2\" class=\"data row0 col2\" >0.100312</td>\n",
       "      <td id=\"T_49bb0_row0_col3\" class=\"data row0 col3\" >0.551385</td>\n",
       "      <td id=\"T_49bb0_row0_col4\" class=\"data row0 col4\" >0.414352</td>\n",
       "    </tr>\n",
       "    <tr>\n",
       "      <th id=\"T_49bb0_level0_row1\" class=\"row_heading level0 row1\" >Total_Credit_Cards</th>\n",
       "      <td id=\"T_49bb0_row1_col0\" class=\"data row1 col0\" >0.608860</td>\n",
       "      <td id=\"T_49bb0_row1_col1\" class=\"data row1 col1\" >0.000000</td>\n",
       "      <td id=\"T_49bb0_row1_col2\" class=\"data row1 col2\" >0.315796</td>\n",
       "      <td id=\"T_49bb0_row1_col3\" class=\"data row1 col3\" >0.167758</td>\n",
       "      <td id=\"T_49bb0_row1_col4\" class=\"data row1 col4\" >0.651251</td>\n",
       "    </tr>\n",
       "    <tr>\n",
       "      <th id=\"T_49bb0_level0_row2\" class=\"row_heading level0 row2\" >Total_visits_bank</th>\n",
       "      <td id=\"T_49bb0_row2_col0\" class=\"data row2 col0\" >0.100312</td>\n",
       "      <td id=\"T_49bb0_row2_col1\" class=\"data row2 col1\" >0.315796</td>\n",
       "      <td id=\"T_49bb0_row2_col2\" class=\"data row2 col2\" >0.000000</td>\n",
       "      <td id=\"T_49bb0_row2_col3\" class=\"data row2 col3\" >0.551861</td>\n",
       "      <td id=\"T_49bb0_row2_col4\" class=\"data row2 col4\" >0.506016</td>\n",
       "    </tr>\n",
       "    <tr>\n",
       "      <th id=\"T_49bb0_level0_row3\" class=\"row_heading level0 row3\" >Total_visits_online</th>\n",
       "      <td id=\"T_49bb0_row3_col0\" class=\"data row3 col0\" >0.551385</td>\n",
       "      <td id=\"T_49bb0_row3_col1\" class=\"data row3 col1\" >0.167758</td>\n",
       "      <td id=\"T_49bb0_row3_col2\" class=\"data row3 col2\" >0.551861</td>\n",
       "      <td id=\"T_49bb0_row3_col3\" class=\"data row3 col3\" >0.000000</td>\n",
       "      <td id=\"T_49bb0_row3_col4\" class=\"data row3 col4\" >0.127299</td>\n",
       "    </tr>\n",
       "    <tr>\n",
       "      <th id=\"T_49bb0_level0_row4\" class=\"row_heading level0 row4\" >Total_calls_made</th>\n",
       "      <td id=\"T_49bb0_row4_col0\" class=\"data row4 col0\" >0.414352</td>\n",
       "      <td id=\"T_49bb0_row4_col1\" class=\"data row4 col1\" >0.651251</td>\n",
       "      <td id=\"T_49bb0_row4_col2\" class=\"data row4 col2\" >0.506016</td>\n",
       "      <td id=\"T_49bb0_row4_col3\" class=\"data row4 col3\" >0.127299</td>\n",
       "      <td id=\"T_49bb0_row4_col4\" class=\"data row4 col4\" >0.000000</td>\n",
       "    </tr>\n",
       "  </tbody>\n",
       "</table>\n"
      ],
      "text/plain": [
       "<pandas.io.formats.style.Styler at 0x7f9300ae3700>"
      ]
     },
     "execution_count": 12,
     "metadata": {},
     "output_type": "execute_result"
    }
   ],
   "source": [
    "#check the correlation between the features:\n",
    "df_corr = df.corr().abs()\n",
    "\n",
    "df_corr = df_corr.replace(to_replace=1.0, value=0)\n",
    "\n",
    "df_corr.style.background_gradient(cmap='coolwarm')\n",
    "# we can see that the value with the highest corr is 'Total_calls_made' & 'Total_Credit_Cards'"
   ]
  },
  {
   "cell_type": "code",
   "execution_count": 13,
   "id": "53522248",
   "metadata": {},
   "outputs": [
    {
     "data": {
      "text/plain": [
       "Avg_Credit_Limit        Total_Credit_Cards\n",
       "Total_Credit_Cards        Total_calls_made\n",
       "Total_visits_bank      Total_visits_online\n",
       "Total_visits_online      Total_visits_bank\n",
       "Total_calls_made        Total_Credit_Cards\n",
       "dtype: object"
      ]
     },
     "execution_count": 13,
     "metadata": {},
     "output_type": "execute_result"
    }
   ],
   "source": [
    "df_corr.idxmax()"
   ]
  },
  {
   "cell_type": "markdown",
   "id": "9d307f29",
   "metadata": {},
   "source": [
    "------------------------------------\n",
    "\n",
    "# Part 2:\n",
    "\n",
    "after EDA - the feature \"Avg_Credit_Limit\" needs to be scaled otherwise the clustering in KMeans which relies on distance will disrupt the model ability to cluster."
   ]
  },
  {
   "cell_type": "code",
   "execution_count": 129,
   "id": "1532dde5",
   "metadata": {
    "scrolled": true
   },
   "outputs": [
    {
     "data": {
      "text/html": [
       "<div>\n",
       "<style scoped>\n",
       "    .dataframe tbody tr th:only-of-type {\n",
       "        vertical-align: middle;\n",
       "    }\n",
       "\n",
       "    .dataframe tbody tr th {\n",
       "        vertical-align: top;\n",
       "    }\n",
       "\n",
       "    .dataframe thead th {\n",
       "        text-align: right;\n",
       "    }\n",
       "</style>\n",
       "<table border=\"1\" class=\"dataframe\">\n",
       "  <thead>\n",
       "    <tr style=\"text-align: right;\">\n",
       "      <th></th>\n",
       "      <th>Avg_Credit_Limit</th>\n",
       "      <th>Total_Credit_Cards</th>\n",
       "      <th>Total_visits_bank</th>\n",
       "      <th>Total_visits_online</th>\n",
       "      <th>Total_calls_made</th>\n",
       "    </tr>\n",
       "  </thead>\n",
       "  <tbody>\n",
       "    <tr>\n",
       "      <th>0</th>\n",
       "      <td>0.492386</td>\n",
       "      <td>0.111111</td>\n",
       "      <td>0.2</td>\n",
       "      <td>0.066667</td>\n",
       "      <td>0.0</td>\n",
       "    </tr>\n",
       "    <tr>\n",
       "      <th>1</th>\n",
       "      <td>0.238579</td>\n",
       "      <td>0.222222</td>\n",
       "      <td>0.0</td>\n",
       "      <td>0.666667</td>\n",
       "      <td>0.9</td>\n",
       "    </tr>\n",
       "    <tr>\n",
       "      <th>2</th>\n",
       "      <td>0.238579</td>\n",
       "      <td>0.666667</td>\n",
       "      <td>0.2</td>\n",
       "      <td>0.200000</td>\n",
       "      <td>0.4</td>\n",
       "    </tr>\n",
       "    <tr>\n",
       "      <th>3</th>\n",
       "      <td>0.137056</td>\n",
       "      <td>0.444444</td>\n",
       "      <td>0.2</td>\n",
       "      <td>0.066667</td>\n",
       "      <td>0.4</td>\n",
       "    </tr>\n",
       "    <tr>\n",
       "      <th>4</th>\n",
       "      <td>0.492386</td>\n",
       "      <td>0.555556</td>\n",
       "      <td>0.0</td>\n",
       "      <td>0.800000</td>\n",
       "      <td>0.3</td>\n",
       "    </tr>\n",
       "    <tr>\n",
       "      <th>...</th>\n",
       "      <td>...</td>\n",
       "      <td>...</td>\n",
       "      <td>...</td>\n",
       "      <td>...</td>\n",
       "      <td>...</td>\n",
       "    </tr>\n",
       "    <tr>\n",
       "      <th>655</th>\n",
       "      <td>0.487310</td>\n",
       "      <td>1.000000</td>\n",
       "      <td>0.2</td>\n",
       "      <td>0.666667</td>\n",
       "      <td>0.0</td>\n",
       "    </tr>\n",
       "    <tr>\n",
       "      <th>656</th>\n",
       "      <td>0.411168</td>\n",
       "      <td>1.000000</td>\n",
       "      <td>0.2</td>\n",
       "      <td>0.866667</td>\n",
       "      <td>0.2</td>\n",
       "    </tr>\n",
       "    <tr>\n",
       "      <th>657</th>\n",
       "      <td>0.720812</td>\n",
       "      <td>0.777778</td>\n",
       "      <td>0.2</td>\n",
       "      <td>0.600000</td>\n",
       "      <td>0.1</td>\n",
       "    </tr>\n",
       "    <tr>\n",
       "      <th>658</th>\n",
       "      <td>0.857868</td>\n",
       "      <td>1.000000</td>\n",
       "      <td>0.2</td>\n",
       "      <td>1.000000</td>\n",
       "      <td>0.0</td>\n",
       "    </tr>\n",
       "    <tr>\n",
       "      <th>659</th>\n",
       "      <td>0.832487</td>\n",
       "      <td>0.888889</td>\n",
       "      <td>0.0</td>\n",
       "      <td>0.800000</td>\n",
       "      <td>0.2</td>\n",
       "    </tr>\n",
       "  </tbody>\n",
       "</table>\n",
       "<p>660 rows × 5 columns</p>\n",
       "</div>"
      ],
      "text/plain": [
       "     Avg_Credit_Limit  Total_Credit_Cards  Total_visits_bank  \\\n",
       "0            0.492386            0.111111                0.2   \n",
       "1            0.238579            0.222222                0.0   \n",
       "2            0.238579            0.666667                0.2   \n",
       "3            0.137056            0.444444                0.2   \n",
       "4            0.492386            0.555556                0.0   \n",
       "..                ...                 ...                ...   \n",
       "655          0.487310            1.000000                0.2   \n",
       "656          0.411168            1.000000                0.2   \n",
       "657          0.720812            0.777778                0.2   \n",
       "658          0.857868            1.000000                0.2   \n",
       "659          0.832487            0.888889                0.0   \n",
       "\n",
       "     Total_visits_online  Total_calls_made  \n",
       "0               0.066667               0.0  \n",
       "1               0.666667               0.9  \n",
       "2               0.200000               0.4  \n",
       "3               0.066667               0.4  \n",
       "4               0.800000               0.3  \n",
       "..                   ...               ...  \n",
       "655             0.666667               0.0  \n",
       "656             0.866667               0.2  \n",
       "657             0.600000               0.1  \n",
       "658             1.000000               0.0  \n",
       "659             0.800000               0.2  \n",
       "\n",
       "[660 rows x 5 columns]"
      ]
     },
     "execution_count": 129,
     "metadata": {},
     "output_type": "execute_result"
    }
   ],
   "source": [
    "from sklearn.preprocessing import MinMaxScaler\n",
    "\n",
    "mms = MinMaxScaler()\n",
    "\n",
    "scaled_df = pd.DataFrame(mms.fit_transform(df),columns=df.columns)\n",
    "\n",
    "#display the scaled data\n",
    "scaled_df"
   ]
  },
  {
   "cell_type": "markdown",
   "id": "50feef60",
   "metadata": {},
   "source": [
    "-------------\n",
    "\n",
    "# Part 3:\n",
    "\n",
    "### Train the Models:"
   ]
  },
  {
   "cell_type": "markdown",
   "id": "81500bbf",
   "metadata": {},
   "source": [
    "### K-Means:"
   ]
  },
  {
   "cell_type": "code",
   "execution_count": 142,
   "id": "7362f3ca",
   "metadata": {},
   "outputs": [
    {
     "data": {
      "text/plain": [
       "Text(0, 0.5, 'Inertia')"
      ]
     },
     "execution_count": 142,
     "metadata": {},
     "output_type": "execute_result"
    },
    {
     "data": {
      "image/png": "[encoded data removed]",
      "text/plain": [
       "<Figure size 432x288 with 1 Axes>"
      ]
     },
     "metadata": {
      "needs_background": "light"
     },
     "output_type": "display_data"
    }
   ],
   "source": [
    "from sklearn.cluster import KMeans\n",
    "\n",
    "inertia = []\n",
    "list_num_clusters = list(range(1,11))\n",
    "for num_clusters in list_num_clusters:\n",
    "    km = KMeans(n_clusters=num_clusters)\n",
    "    km.fit(scaled_df)\n",
    "    inertia.append(km.inertia_)\n",
    "    \n",
    "plt.plot(list_num_clusters,inertia)\n",
    "plt.title('Inertia for K-Means')\n",
    "plt.xlabel('Number of Clusters')\n",
    "plt.ylabel('Inertia')\n"
   ]
  },
  {
   "cell_type": "markdown",
   "id": "8e17dfb0",
   "metadata": {},
   "source": [
    "We can see that the inertia stabilizes at around k=4, therefor the recommended clustering is 4 groups"
   ]
  },
  {
   "cell_type": "code",
   "execution_count": 45,
   "id": "270e6793",
   "metadata": {
    "scrolled": true
   },
   "outputs": [
    {
     "data": {
      "text/plain": [
       "KMeans(n_clusters=4)"
      ]
     },
     "execution_count": 45,
     "metadata": {},
     "output_type": "execute_result"
    }
   ],
   "source": [
    "#run Kmeans with k=4\n",
    "km = KMeans(n_clusters=4)\n",
    "km.fit(scaled_df)"
   ]
  },
  {
   "cell_type": "code",
   "execution_count": 50,
   "id": "63aed54a",
   "metadata": {},
   "outputs": [
    {
     "data": {
      "text/html": [
       "<div>\n",
       "<style scoped>\n",
       "    .dataframe tbody tr th:only-of-type {\n",
       "        vertical-align: middle;\n",
       "    }\n",
       "\n",
       "    .dataframe tbody tr th {\n",
       "        vertical-align: top;\n",
       "    }\n",
       "\n",
       "    .dataframe thead th {\n",
       "        text-align: right;\n",
       "    }\n",
       "</style>\n",
       "<table border=\"1\" class=\"dataframe\">\n",
       "  <thead>\n",
       "    <tr style=\"text-align: right;\">\n",
       "      <th></th>\n",
       "      <th>Avg_Credit_Limit</th>\n",
       "      <th>Total_Credit_Cards</th>\n",
       "      <th>Total_visits_bank</th>\n",
       "      <th>Total_visits_online</th>\n",
       "      <th>Total_calls_made</th>\n",
       "    </tr>\n",
       "  </thead>\n",
       "  <tbody>\n",
       "    <tr>\n",
       "      <th>0</th>\n",
       "      <td>100000.0</td>\n",
       "      <td>2.0</td>\n",
       "      <td>1.0</td>\n",
       "      <td>1.0</td>\n",
       "      <td>0.0</td>\n",
       "    </tr>\n",
       "    <tr>\n",
       "      <th>1</th>\n",
       "      <td>50000.0</td>\n",
       "      <td>3.0</td>\n",
       "      <td>0.0</td>\n",
       "      <td>10.0</td>\n",
       "      <td>9.0</td>\n",
       "    </tr>\n",
       "    <tr>\n",
       "      <th>2</th>\n",
       "      <td>50000.0</td>\n",
       "      <td>7.0</td>\n",
       "      <td>1.0</td>\n",
       "      <td>3.0</td>\n",
       "      <td>4.0</td>\n",
       "    </tr>\n",
       "    <tr>\n",
       "      <th>3</th>\n",
       "      <td>30000.0</td>\n",
       "      <td>5.0</td>\n",
       "      <td>1.0</td>\n",
       "      <td>1.0</td>\n",
       "      <td>4.0</td>\n",
       "    </tr>\n",
       "    <tr>\n",
       "      <th>4</th>\n",
       "      <td>100000.0</td>\n",
       "      <td>6.0</td>\n",
       "      <td>0.0</td>\n",
       "      <td>12.0</td>\n",
       "      <td>3.0</td>\n",
       "    </tr>\n",
       "    <tr>\n",
       "      <th>...</th>\n",
       "      <td>...</td>\n",
       "      <td>...</td>\n",
       "      <td>...</td>\n",
       "      <td>...</td>\n",
       "      <td>...</td>\n",
       "    </tr>\n",
       "    <tr>\n",
       "      <th>655</th>\n",
       "      <td>99000.0</td>\n",
       "      <td>10.0</td>\n",
       "      <td>1.0</td>\n",
       "      <td>10.0</td>\n",
       "      <td>0.0</td>\n",
       "    </tr>\n",
       "    <tr>\n",
       "      <th>656</th>\n",
       "      <td>84000.0</td>\n",
       "      <td>10.0</td>\n",
       "      <td>1.0</td>\n",
       "      <td>13.0</td>\n",
       "      <td>2.0</td>\n",
       "    </tr>\n",
       "    <tr>\n",
       "      <th>657</th>\n",
       "      <td>145000.0</td>\n",
       "      <td>8.0</td>\n",
       "      <td>1.0</td>\n",
       "      <td>9.0</td>\n",
       "      <td>1.0</td>\n",
       "    </tr>\n",
       "    <tr>\n",
       "      <th>658</th>\n",
       "      <td>172000.0</td>\n",
       "      <td>10.0</td>\n",
       "      <td>1.0</td>\n",
       "      <td>15.0</td>\n",
       "      <td>0.0</td>\n",
       "    </tr>\n",
       "    <tr>\n",
       "      <th>659</th>\n",
       "      <td>167000.0</td>\n",
       "      <td>9.0</td>\n",
       "      <td>0.0</td>\n",
       "      <td>12.0</td>\n",
       "      <td>2.0</td>\n",
       "    </tr>\n",
       "  </tbody>\n",
       "</table>\n",
       "<p>660 rows × 5 columns</p>\n",
       "</div>"
      ],
      "text/plain": [
       "     Avg_Credit_Limit  Total_Credit_Cards  Total_visits_bank  \\\n",
       "0            100000.0                 2.0                1.0   \n",
       "1             50000.0                 3.0                0.0   \n",
       "2             50000.0                 7.0                1.0   \n",
       "3             30000.0                 5.0                1.0   \n",
       "4            100000.0                 6.0                0.0   \n",
       "..                ...                 ...                ...   \n",
       "655           99000.0                10.0                1.0   \n",
       "656           84000.0                10.0                1.0   \n",
       "657          145000.0                 8.0                1.0   \n",
       "658          172000.0                10.0                1.0   \n",
       "659          167000.0                 9.0                0.0   \n",
       "\n",
       "     Total_visits_online  Total_calls_made  \n",
       "0                    1.0               0.0  \n",
       "1                   10.0               9.0  \n",
       "2                    3.0               4.0  \n",
       "3                    1.0               4.0  \n",
       "4                   12.0               3.0  \n",
       "..                   ...               ...  \n",
       "655                 10.0               0.0  \n",
       "656                 13.0               2.0  \n",
       "657                  9.0               1.0  \n",
       "658                 15.0               0.0  \n",
       "659                 12.0               2.0  \n",
       "\n",
       "[660 rows x 5 columns]"
      ]
     },
     "execution_count": 50,
     "metadata": {},
     "output_type": "execute_result"
    }
   ],
   "source": [
    "#inverse the scaling\n",
    "df_clustered = pd.DataFrame(mms.inverse_transform(scaled_df),columns=df.columns)\n",
    "df_clustered"
   ]
  },
  {
   "cell_type": "code",
   "execution_count": 197,
   "id": "322ac21a",
   "metadata": {},
   "outputs": [],
   "source": [
    "#add the cluster to the data frame\n",
    "df_clustered.insert(loc=5,column='Cluster',value=km.labels_)"
   ]
  },
  {
   "cell_type": "code",
   "execution_count": 52,
   "id": "2195b6f3",
   "metadata": {
    "scrolled": false
   },
   "outputs": [
    {
     "data": {
      "text/html": [
       "<div>\n",
       "<style scoped>\n",
       "    .dataframe tbody tr th:only-of-type {\n",
       "        vertical-align: middle;\n",
       "    }\n",
       "\n",
       "    .dataframe tbody tr th {\n",
       "        vertical-align: top;\n",
       "    }\n",
       "\n",
       "    .dataframe thead th {\n",
       "        text-align: right;\n",
       "    }\n",
       "</style>\n",
       "<table border=\"1\" class=\"dataframe\">\n",
       "  <thead>\n",
       "    <tr style=\"text-align: right;\">\n",
       "      <th></th>\n",
       "      <th>Avg_Credit_Limit</th>\n",
       "      <th>Total_Credit_Cards</th>\n",
       "      <th>Total_visits_bank</th>\n",
       "      <th>Total_visits_online</th>\n",
       "      <th>Total_calls_made</th>\n",
       "      <th>Cluster</th>\n",
       "    </tr>\n",
       "  </thead>\n",
       "  <tbody>\n",
       "    <tr>\n",
       "      <th>0</th>\n",
       "      <td>100000.0</td>\n",
       "      <td>2.0</td>\n",
       "      <td>1.0</td>\n",
       "      <td>1.0</td>\n",
       "      <td>0.0</td>\n",
       "      <td>0</td>\n",
       "    </tr>\n",
       "    <tr>\n",
       "      <th>1</th>\n",
       "      <td>50000.0</td>\n",
       "      <td>3.0</td>\n",
       "      <td>0.0</td>\n",
       "      <td>10.0</td>\n",
       "      <td>9.0</td>\n",
       "      <td>1</td>\n",
       "    </tr>\n",
       "    <tr>\n",
       "      <th>2</th>\n",
       "      <td>50000.0</td>\n",
       "      <td>7.0</td>\n",
       "      <td>1.0</td>\n",
       "      <td>3.0</td>\n",
       "      <td>4.0</td>\n",
       "      <td>0</td>\n",
       "    </tr>\n",
       "    <tr>\n",
       "      <th>3</th>\n",
       "      <td>30000.0</td>\n",
       "      <td>5.0</td>\n",
       "      <td>1.0</td>\n",
       "      <td>1.0</td>\n",
       "      <td>4.0</td>\n",
       "      <td>0</td>\n",
       "    </tr>\n",
       "    <tr>\n",
       "      <th>4</th>\n",
       "      <td>100000.0</td>\n",
       "      <td>6.0</td>\n",
       "      <td>0.0</td>\n",
       "      <td>12.0</td>\n",
       "      <td>3.0</td>\n",
       "      <td>2</td>\n",
       "    </tr>\n",
       "    <tr>\n",
       "      <th>...</th>\n",
       "      <td>...</td>\n",
       "      <td>...</td>\n",
       "      <td>...</td>\n",
       "      <td>...</td>\n",
       "      <td>...</td>\n",
       "      <td>...</td>\n",
       "    </tr>\n",
       "    <tr>\n",
       "      <th>655</th>\n",
       "      <td>99000.0</td>\n",
       "      <td>10.0</td>\n",
       "      <td>1.0</td>\n",
       "      <td>10.0</td>\n",
       "      <td>0.0</td>\n",
       "      <td>2</td>\n",
       "    </tr>\n",
       "    <tr>\n",
       "      <th>656</th>\n",
       "      <td>84000.0</td>\n",
       "      <td>10.0</td>\n",
       "      <td>1.0</td>\n",
       "      <td>13.0</td>\n",
       "      <td>2.0</td>\n",
       "      <td>2</td>\n",
       "    </tr>\n",
       "    <tr>\n",
       "      <th>657</th>\n",
       "      <td>145000.0</td>\n",
       "      <td>8.0</td>\n",
       "      <td>1.0</td>\n",
       "      <td>9.0</td>\n",
       "      <td>1.0</td>\n",
       "      <td>2</td>\n",
       "    </tr>\n",
       "    <tr>\n",
       "      <th>658</th>\n",
       "      <td>172000.0</td>\n",
       "      <td>10.0</td>\n",
       "      <td>1.0</td>\n",
       "      <td>15.0</td>\n",
       "      <td>0.0</td>\n",
       "      <td>2</td>\n",
       "    </tr>\n",
       "    <tr>\n",
       "      <th>659</th>\n",
       "      <td>167000.0</td>\n",
       "      <td>9.0</td>\n",
       "      <td>0.0</td>\n",
       "      <td>12.0</td>\n",
       "      <td>2.0</td>\n",
       "      <td>2</td>\n",
       "    </tr>\n",
       "  </tbody>\n",
       "</table>\n",
       "<p>660 rows × 6 columns</p>\n",
       "</div>"
      ],
      "text/plain": [
       "     Avg_Credit_Limit  Total_Credit_Cards  Total_visits_bank  \\\n",
       "0            100000.0                 2.0                1.0   \n",
       "1             50000.0                 3.0                0.0   \n",
       "2             50000.0                 7.0                1.0   \n",
       "3             30000.0                 5.0                1.0   \n",
       "4            100000.0                 6.0                0.0   \n",
       "..                ...                 ...                ...   \n",
       "655           99000.0                10.0                1.0   \n",
       "656           84000.0                10.0                1.0   \n",
       "657          145000.0                 8.0                1.0   \n",
       "658          172000.0                10.0                1.0   \n",
       "659          167000.0                 9.0                0.0   \n",
       "\n",
       "     Total_visits_online  Total_calls_made  Cluster  \n",
       "0                    1.0               0.0        0  \n",
       "1                   10.0               9.0        1  \n",
       "2                    3.0               4.0        0  \n",
       "3                    1.0               4.0        0  \n",
       "4                   12.0               3.0        2  \n",
       "..                   ...               ...      ...  \n",
       "655                 10.0               0.0        2  \n",
       "656                 13.0               2.0        2  \n",
       "657                  9.0               1.0        2  \n",
       "658                 15.0               0.0        2  \n",
       "659                 12.0               2.0        2  \n",
       "\n",
       "[660 rows x 6 columns]"
      ]
     },
     "execution_count": 52,
     "metadata": {},
     "output_type": "execute_result"
    }
   ],
   "source": [
    "#display the data with the clustering\n",
    "df_clustered"
   ]
  },
  {
   "cell_type": "markdown",
   "id": "5ec39a35",
   "metadata": {},
   "source": [
    "#### Visualize the Results:"
   ]
  },
  {
   "cell_type": "code",
   "execution_count": 122,
   "id": "02adc318",
   "metadata": {},
   "outputs": [
    {
     "data": {
      "image/png": "[encoded data removed]",
      "text/plain": [
       "<Figure size 432x288 with 1 Axes>"
      ]
     },
     "metadata": {
      "needs_background": "light"
     },
     "output_type": "display_data"
    }
   ],
   "source": [
    "#plot a scatter of the clusters - Credit Limit vs. # Cards'\n",
    "plt.scatter(df_clustered.Total_Credit_Cards,df_clustered.Avg_Credit_Limit,c=df_clustered.Cluster)\n",
    "plt.xlabel('# of Credit Cards')\n",
    "plt.ylabel('Avg Credit')\n",
    "plt.title('Credit Limit vs. # Cards')\n",
    "plt.show()\n",
    "# we can see te obvious that the # of credit cards is correlated with the average credit limit."
   ]
  },
  {
   "cell_type": "markdown",
   "id": "89efd15b",
   "metadata": {},
   "source": [
    "we can see the obvious - that the # of credit cards is correlated with the average credit limit.\n",
    "However we must remember:\n",
    "\n",
    "The corr matrix showed that the higher correlation is between 'Total_calls_made' & 'Total_Credit_Cards'\n",
    "\n",
    "Let's plot that as well:"
   ]
  },
  {
   "cell_type": "code",
   "execution_count": 127,
   "id": "089b536f",
   "metadata": {},
   "outputs": [
    {
     "data": {
      "image/png": "[encoded data removed]",
      "text/plain": [
       "<Figure size 432x288 with 1 Axes>"
      ]
     },
     "metadata": {
      "needs_background": "light"
     },
     "output_type": "display_data"
    }
   ],
   "source": [
    "#plot a scatter of the clusters - Total_calls_made' & 'Total_Credit_Cards\n",
    "plt.scatter(df_clustered.Total_Credit_Cards,df_clustered.Total_calls_made,c=df_clustered.Cluster)\n",
    "plt.xlabel('Total Credit Cards')\n",
    "plt.ylabel('total calls made')\n",
    "plt.title('Total Calls made vs. Total Credit Cards')\n",
    "plt.show()"
   ]
  },
  {
   "cell_type": "markdown",
   "id": "bcb1b6e5",
   "metadata": {},
   "source": [
    "Preliminary conclusion: Credit Owner that has large amount of cards uses the telephone less,\n",
    "\n",
    "Finally - let's take a look at Visits on-line vs. Avg Card Limit"
   ]
  },
  {
   "cell_type": "code",
   "execution_count": 193,
   "id": "7b1733ac",
   "metadata": {},
   "outputs": [
    {
     "data": {
      "image/png": "[encoded data removed]",
      "text/plain": [
       "<Figure size 432x288 with 1 Axes>"
      ]
     },
     "metadata": {
      "needs_background": "light"
     },
     "output_type": "display_data"
    }
   ],
   "source": [
    "#plot a scatter of the clusters - Visits online vs. Avg Card Limit\n",
    "plt.scatter(df_clustered.Total_visits_online,df_clustered.Avg_Credit_Limit,c=df_clustered.Cluster)\n",
    "plt.xlabel('Visits Online')\n",
    "plt.ylabel('Avg Card Limit')\n",
    "plt.title('Visits On-Line vs. Total Credit Cards')\n",
    "plt.show()"
   ]
  },
  {
   "cell_type": "markdown",
   "id": "43ff0f96",
   "metadata": {},
   "source": [
    "Preliminary conclusion: Credit Owner that has High credit limit tends to visit the on-line channel more often,\n",
    "and probably has more credit cards"
   ]
  },
  {
   "cell_type": "markdown",
   "id": "223931e6",
   "metadata": {},
   "source": [
    "### Agglomerative Clustering:"
   ]
  },
  {
   "cell_type": "markdown",
   "id": "edf91201",
   "metadata": {},
   "source": [
    "Run AgglomerativeClustering with n_clusters=2"
   ]
  },
  {
   "cell_type": "code",
   "execution_count": 158,
   "id": "ecc59816",
   "metadata": {},
   "outputs": [
    {
     "data": {
      "text/plain": [
       "{'affinity': 'euclidean',\n",
       " 'compute_distances': False,\n",
       " 'compute_full_tree': True,\n",
       " 'connectivity': None,\n",
       " 'distance_threshold': None,\n",
       " 'linkage': 'ward',\n",
       " 'memory': None,\n",
       " 'n_clusters': 2}"
      ]
     },
     "execution_count": 158,
     "metadata": {},
     "output_type": "execute_result"
    }
   ],
   "source": [
    "from sklearn.cluster import AgglomerativeClustering\n",
    "\n",
    "ag = AgglomerativeClustering(n_clusters=2,linkage='ward', compute_full_tree=True)\n",
    "df_ag = ag.fit(scaled_df)\n",
    "#display the \"auto\" model parameters\n",
    "ag.get_params()"
   ]
  },
  {
   "cell_type": "code",
   "execution_count": 159,
   "id": "2975e93e",
   "metadata": {
    "scrolled": true
   },
   "outputs": [],
   "source": [
    "#store the label for each parameter this case n=2\n",
    "ag2 = ag.labels_"
   ]
  },
  {
   "cell_type": "markdown",
   "id": "d030130a",
   "metadata": {},
   "source": [
    "Run AgglomerativeClustering with n_clusters=3"
   ]
  },
  {
   "cell_type": "code",
   "execution_count": 161,
   "id": "102af496",
   "metadata": {},
   "outputs": [
    {
     "data": {
      "text/plain": [
       "{'affinity': 'euclidean',\n",
       " 'compute_distances': False,\n",
       " 'compute_full_tree': True,\n",
       " 'connectivity': None,\n",
       " 'distance_threshold': None,\n",
       " 'linkage': 'ward',\n",
       " 'memory': None,\n",
       " 'n_clusters': 3}"
      ]
     },
     "execution_count": 161,
     "metadata": {},
     "output_type": "execute_result"
    }
   ],
   "source": [
    "from sklearn.cluster import AgglomerativeClustering\n",
    "\n",
    "ag = AgglomerativeClustering(n_clusters=3,linkage='ward', compute_full_tree=True)\n",
    "df_ag = ag.fit(scaled_df)\n",
    "#display the \"auto\" model parameters\n",
    "ag.get_params()"
   ]
  },
  {
   "cell_type": "code",
   "execution_count": 160,
   "id": "d7235181",
   "metadata": {},
   "outputs": [],
   "source": [
    "#store the label for each parameter this case n=3\n",
    "ag3 = ag.labels_"
   ]
  },
  {
   "cell_type": "markdown",
   "id": "08614bf3",
   "metadata": {},
   "source": [
    "Run AgglomerativeClustering with n_clusters=4"
   ]
  },
  {
   "cell_type": "code",
   "execution_count": 164,
   "id": "a12343c1",
   "metadata": {},
   "outputs": [
    {
     "data": {
      "text/plain": [
       "{'affinity': 'euclidean',\n",
       " 'compute_distances': False,\n",
       " 'compute_full_tree': True,\n",
       " 'connectivity': None,\n",
       " 'distance_threshold': None,\n",
       " 'linkage': 'ward',\n",
       " 'memory': None,\n",
       " 'n_clusters': 4}"
      ]
     },
     "execution_count": 164,
     "metadata": {},
     "output_type": "execute_result"
    }
   ],
   "source": [
    "from sklearn.cluster import AgglomerativeClustering\n",
    "\n",
    "ag = AgglomerativeClustering(n_clusters=4,linkage='ward', compute_full_tree=True)\n",
    "df_ag = ag.fit(scaled_df)\n",
    "#display the \"auto\" model parameters\n",
    "ag.get_params()"
   ]
  },
  {
   "cell_type": "code",
   "execution_count": 166,
   "id": "157aa2a1",
   "metadata": {},
   "outputs": [],
   "source": [
    "#store the label for each parameter this case n=4\n",
    "ag4 = ag.labels_"
   ]
  },
  {
   "cell_type": "code",
   "execution_count": 174,
   "id": "16c40e67",
   "metadata": {},
   "outputs": [
    {
     "ename": "ValueError",
     "evalue": "cannot insert ag_n2, already exists",
     "output_type": "error",
     "traceback": [
      "\u001b[0;31m---------------------------------------------------------------------------\u001b[0m",
      "\u001b[0;31mValueError\u001b[0m                                Traceback (most recent call last)",
      "\u001b[0;32m/tmp/ipykernel_4995/1145184532.py\u001b[0m in \u001b[0;36m<module>\u001b[0;34m\u001b[0m\n\u001b[1;32m      1\u001b[0m \u001b[0;31m#add the diff n's to the DF\u001b[0m\u001b[0;34m\u001b[0m\u001b[0;34m\u001b[0m\u001b[0m\n\u001b[0;32m----> 2\u001b[0;31m \u001b[0mdf_clustered\u001b[0m\u001b[0;34m.\u001b[0m\u001b[0minsert\u001b[0m\u001b[0;34m(\u001b[0m\u001b[0mloc\u001b[0m\u001b[0;34m=\u001b[0m\u001b[0;36m6\u001b[0m\u001b[0;34m,\u001b[0m\u001b[0mcolumn\u001b[0m\u001b[0;34m=\u001b[0m\u001b[0;34m'ag_n2'\u001b[0m\u001b[0;34m,\u001b[0m\u001b[0mvalue\u001b[0m\u001b[0;34m=\u001b[0m\u001b[0mag2\u001b[0m\u001b[0;34m)\u001b[0m\u001b[0;34m\u001b[0m\u001b[0;34m\u001b[0m\u001b[0m\n\u001b[0m\u001b[1;32m      3\u001b[0m \u001b[0mdf_clustered\u001b[0m\u001b[0;34m.\u001b[0m\u001b[0minsert\u001b[0m\u001b[0;34m(\u001b[0m\u001b[0mloc\u001b[0m\u001b[0;34m=\u001b[0m\u001b[0;36m7\u001b[0m\u001b[0;34m,\u001b[0m\u001b[0mcolumn\u001b[0m\u001b[0;34m=\u001b[0m\u001b[0;34m'ag_n3'\u001b[0m\u001b[0;34m,\u001b[0m\u001b[0mvalue\u001b[0m\u001b[0;34m=\u001b[0m\u001b[0mag3\u001b[0m\u001b[0;34m)\u001b[0m\u001b[0;34m\u001b[0m\u001b[0;34m\u001b[0m\u001b[0m\n\u001b[1;32m      4\u001b[0m \u001b[0mdf_clustered\u001b[0m\u001b[0;34m.\u001b[0m\u001b[0minsert\u001b[0m\u001b[0;34m(\u001b[0m\u001b[0mloc\u001b[0m\u001b[0;34m=\u001b[0m\u001b[0;36m8\u001b[0m\u001b[0;34m,\u001b[0m\u001b[0mcolumn\u001b[0m\u001b[0;34m=\u001b[0m\u001b[0;34m'ag_n4'\u001b[0m\u001b[0;34m,\u001b[0m\u001b[0mvalue\u001b[0m\u001b[0;34m=\u001b[0m\u001b[0mag4\u001b[0m\u001b[0;34m)\u001b[0m\u001b[0;34m\u001b[0m\u001b[0;34m\u001b[0m\u001b[0m\n\u001b[1;32m      5\u001b[0m \u001b[0;34m\u001b[0m\u001b[0m\n",
      "\u001b[0;32m~/anaconda3/lib/python3.9/site-packages/pandas/core/frame.py\u001b[0m in \u001b[0;36minsert\u001b[0;34m(self, loc, column, value, allow_duplicates)\u001b[0m\n\u001b[1;32m   4412\u001b[0m         \u001b[0;32mif\u001b[0m \u001b[0;32mnot\u001b[0m \u001b[0mallow_duplicates\u001b[0m \u001b[0;32mand\u001b[0m \u001b[0mcolumn\u001b[0m \u001b[0;32min\u001b[0m \u001b[0mself\u001b[0m\u001b[0;34m.\u001b[0m\u001b[0mcolumns\u001b[0m\u001b[0;34m:\u001b[0m\u001b[0;34m\u001b[0m\u001b[0;34m\u001b[0m\u001b[0m\n\u001b[1;32m   4413\u001b[0m             \u001b[0;31m# Should this be a different kind of error??\u001b[0m\u001b[0;34m\u001b[0m\u001b[0;34m\u001b[0m\u001b[0m\n\u001b[0;32m-> 4414\u001b[0;31m             \u001b[0;32mraise\u001b[0m \u001b[0mValueError\u001b[0m\u001b[0;34m(\u001b[0m\u001b[0;34mf\"cannot insert {column}, already exists\"\u001b[0m\u001b[0;34m)\u001b[0m\u001b[0;34m\u001b[0m\u001b[0;34m\u001b[0m\u001b[0m\n\u001b[0m\u001b[1;32m   4415\u001b[0m         \u001b[0;32mif\u001b[0m \u001b[0;32mnot\u001b[0m \u001b[0misinstance\u001b[0m\u001b[0;34m(\u001b[0m\u001b[0mloc\u001b[0m\u001b[0;34m,\u001b[0m \u001b[0mint\u001b[0m\u001b[0;34m)\u001b[0m\u001b[0;34m:\u001b[0m\u001b[0;34m\u001b[0m\u001b[0;34m\u001b[0m\u001b[0m\n\u001b[1;32m   4416\u001b[0m             \u001b[0;32mraise\u001b[0m \u001b[0mTypeError\u001b[0m\u001b[0;34m(\u001b[0m\u001b[0;34m\"loc must be int\"\u001b[0m\u001b[0;34m)\u001b[0m\u001b[0;34m\u001b[0m\u001b[0;34m\u001b[0m\u001b[0m\n",
      "\u001b[0;31mValueError\u001b[0m: cannot insert ag_n2, already exists"
     ]
    }
   ],
   "source": [
    "#add the diff n's to the DF\n",
    "df_clustered.insert(loc=6,column='ag_n2',value=ag2)\n",
    "df_clustered.insert(loc=7,column='ag_n3',value=ag3)\n",
    "df_clustered.insert(loc=8,column='ag_n4',value=ag4)"
   ]
  },
  {
   "cell_type": "code",
   "execution_count": 179,
   "id": "af055dbf",
   "metadata": {},
   "outputs": [
    {
     "data": {
      "text/html": [
       "<div>\n",
       "<style scoped>\n",
       "    .dataframe tbody tr th:only-of-type {\n",
       "        vertical-align: middle;\n",
       "    }\n",
       "\n",
       "    .dataframe tbody tr th {\n",
       "        vertical-align: top;\n",
       "    }\n",
       "\n",
       "    .dataframe thead th {\n",
       "        text-align: right;\n",
       "    }\n",
       "</style>\n",
       "<table border=\"1\" class=\"dataframe\">\n",
       "  <thead>\n",
       "    <tr style=\"text-align: right;\">\n",
       "      <th></th>\n",
       "      <th>Avg_Credit_Limit</th>\n",
       "      <th>Total_Credit_Cards</th>\n",
       "      <th>Total_visits_bank</th>\n",
       "      <th>Total_visits_online</th>\n",
       "      <th>Total_calls_made</th>\n",
       "      <th>Cluster</th>\n",
       "      <th>ag_n2</th>\n",
       "      <th>ag_n3</th>\n",
       "      <th>ag_n4</th>\n",
       "    </tr>\n",
       "  </thead>\n",
       "  <tbody>\n",
       "    <tr>\n",
       "      <th>0</th>\n",
       "      <td>100000.0</td>\n",
       "      <td>2.0</td>\n",
       "      <td>1.0</td>\n",
       "      <td>1.0</td>\n",
       "      <td>0.0</td>\n",
       "      <td>0</td>\n",
       "      <td>0</td>\n",
       "      <td>0</td>\n",
       "      <td>1</td>\n",
       "    </tr>\n",
       "    <tr>\n",
       "      <th>1</th>\n",
       "      <td>50000.0</td>\n",
       "      <td>3.0</td>\n",
       "      <td>0.0</td>\n",
       "      <td>10.0</td>\n",
       "      <td>9.0</td>\n",
       "      <td>1</td>\n",
       "      <td>1</td>\n",
       "      <td>1</td>\n",
       "      <td>0</td>\n",
       "    </tr>\n",
       "    <tr>\n",
       "      <th>2</th>\n",
       "      <td>50000.0</td>\n",
       "      <td>7.0</td>\n",
       "      <td>1.0</td>\n",
       "      <td>3.0</td>\n",
       "      <td>4.0</td>\n",
       "      <td>0</td>\n",
       "      <td>0</td>\n",
       "      <td>0</td>\n",
       "      <td>1</td>\n",
       "    </tr>\n",
       "    <tr>\n",
       "      <th>3</th>\n",
       "      <td>30000.0</td>\n",
       "      <td>5.0</td>\n",
       "      <td>1.0</td>\n",
       "      <td>1.0</td>\n",
       "      <td>4.0</td>\n",
       "      <td>0</td>\n",
       "      <td>1</td>\n",
       "      <td>1</td>\n",
       "      <td>0</td>\n",
       "    </tr>\n",
       "    <tr>\n",
       "      <th>4</th>\n",
       "      <td>100000.0</td>\n",
       "      <td>6.0</td>\n",
       "      <td>0.0</td>\n",
       "      <td>12.0</td>\n",
       "      <td>3.0</td>\n",
       "      <td>2</td>\n",
       "      <td>0</td>\n",
       "      <td>0</td>\n",
       "      <td>2</td>\n",
       "    </tr>\n",
       "    <tr>\n",
       "      <th>...</th>\n",
       "      <td>...</td>\n",
       "      <td>...</td>\n",
       "      <td>...</td>\n",
       "      <td>...</td>\n",
       "      <td>...</td>\n",
       "      <td>...</td>\n",
       "      <td>...</td>\n",
       "      <td>...</td>\n",
       "      <td>...</td>\n",
       "    </tr>\n",
       "    <tr>\n",
       "      <th>655</th>\n",
       "      <td>99000.0</td>\n",
       "      <td>10.0</td>\n",
       "      <td>1.0</td>\n",
       "      <td>10.0</td>\n",
       "      <td>0.0</td>\n",
       "      <td>2</td>\n",
       "      <td>0</td>\n",
       "      <td>0</td>\n",
       "      <td>2</td>\n",
       "    </tr>\n",
       "    <tr>\n",
       "      <th>656</th>\n",
       "      <td>84000.0</td>\n",
       "      <td>10.0</td>\n",
       "      <td>1.0</td>\n",
       "      <td>13.0</td>\n",
       "      <td>2.0</td>\n",
       "      <td>2</td>\n",
       "      <td>0</td>\n",
       "      <td>0</td>\n",
       "      <td>2</td>\n",
       "    </tr>\n",
       "    <tr>\n",
       "      <th>657</th>\n",
       "      <td>145000.0</td>\n",
       "      <td>8.0</td>\n",
       "      <td>1.0</td>\n",
       "      <td>9.0</td>\n",
       "      <td>1.0</td>\n",
       "      <td>2</td>\n",
       "      <td>0</td>\n",
       "      <td>0</td>\n",
       "      <td>2</td>\n",
       "    </tr>\n",
       "    <tr>\n",
       "      <th>658</th>\n",
       "      <td>172000.0</td>\n",
       "      <td>10.0</td>\n",
       "      <td>1.0</td>\n",
       "      <td>15.0</td>\n",
       "      <td>0.0</td>\n",
       "      <td>2</td>\n",
       "      <td>0</td>\n",
       "      <td>0</td>\n",
       "      <td>2</td>\n",
       "    </tr>\n",
       "    <tr>\n",
       "      <th>659</th>\n",
       "      <td>167000.0</td>\n",
       "      <td>9.0</td>\n",
       "      <td>0.0</td>\n",
       "      <td>12.0</td>\n",
       "      <td>2.0</td>\n",
       "      <td>2</td>\n",
       "      <td>0</td>\n",
       "      <td>0</td>\n",
       "      <td>2</td>\n",
       "    </tr>\n",
       "  </tbody>\n",
       "</table>\n",
       "<p>660 rows × 9 columns</p>\n",
       "</div>"
      ],
      "text/plain": [
       "     Avg_Credit_Limit  Total_Credit_Cards  Total_visits_bank  \\\n",
       "0            100000.0                 2.0                1.0   \n",
       "1             50000.0                 3.0                0.0   \n",
       "2             50000.0                 7.0                1.0   \n",
       "3             30000.0                 5.0                1.0   \n",
       "4            100000.0                 6.0                0.0   \n",
       "..                ...                 ...                ...   \n",
       "655           99000.0                10.0                1.0   \n",
       "656           84000.0                10.0                1.0   \n",
       "657          145000.0                 8.0                1.0   \n",
       "658          172000.0                10.0                1.0   \n",
       "659          167000.0                 9.0                0.0   \n",
       "\n",
       "     Total_visits_online  Total_calls_made  Cluster  ag_n2  ag_n3  ag_n4  \n",
       "0                    1.0               0.0        0      0      0      1  \n",
       "1                   10.0               9.0        1      1      1      0  \n",
       "2                    3.0               4.0        0      0      0      1  \n",
       "3                    1.0               4.0        0      1      1      0  \n",
       "4                   12.0               3.0        2      0      0      2  \n",
       "..                   ...               ...      ...    ...    ...    ...  \n",
       "655                 10.0               0.0        2      0      0      2  \n",
       "656                 13.0               2.0        2      0      0      2  \n",
       "657                  9.0               1.0        2      0      0      2  \n",
       "658                 15.0               0.0        2      0      0      2  \n",
       "659                 12.0               2.0        2      0      0      2  \n",
       "\n",
       "[660 rows x 9 columns]"
      ]
     },
     "execution_count": 179,
     "metadata": {},
     "output_type": "execute_result"
    }
   ],
   "source": [
    "#display the DF \n",
    "df_clustered\n",
    "# we can see the different clustering from n=2 till n=4 using Agglomerative Clustering"
   ]
  },
  {
   "cell_type": "code",
   "execution_count": 195,
   "id": "a80650f8",
   "metadata": {},
   "outputs": [
    {
     "data": {
      "image/png": "[encoded data removed]",
      "text/plain": [
       "<Figure size 432x288 with 1 Axes>"
      ]
     },
     "metadata": {
      "needs_background": "light"
     },
     "output_type": "display_data"
    }
   ],
   "source": [
    "#plot a scatter of the clusters for AG n=4\n",
    "#Visits online vs. Avg Card Limit\n",
    "plt.scatter(df_clustered.Total_visits_online,df_clustered.Avg_Credit_Limit,c=df_clustered.ag_n4)\n",
    "plt.xlabel('Visits Online')\n",
    "plt.ylabel('Avg Card Limit')\n",
    "plt.title('Total Visits On-Line vs. Total Credit Cards(AG when n=4)')\n",
    "plt.show()"
   ]
  },
  {
   "cell_type": "markdown",
   "id": "2861fe70",
   "metadata": {},
   "source": [
    "Preliminary conclusion: Agglomerative Clustering Yields a very similar clustering as K Means\n",
    "\n",
    "Now let's have a look at the Bank visits vs the Credit Limit"
   ]
  },
  {
   "cell_type": "code",
   "execution_count": 196,
   "id": "d559e144",
   "metadata": {},
   "outputs": [
    {
     "data": {
      "image/png": "[encoded data removed]",
      "text/plain": [
       "<Figure size 432x288 with 1 Axes>"
      ]
     },
     "metadata": {
      "needs_background": "light"
     },
     "output_type": "display_data"
    }
   ],
   "source": [
    "#plot a scatter of the clusters for AG n=4\n",
    "#Visits online vs. Avg Card Limit\n",
    "plt.scatter(df_clustered.Total_visits_bank,df_clustered.Avg_Credit_Limit,c=df_clustered.ag_n4)\n",
    "plt.xlabel('Visits Online')\n",
    "plt.ylabel('Avg Card Limit')\n",
    "plt.title('Total Calls made vs. Total Credit Cards')\n",
    "plt.show()"
   ]
  },
  {
   "cell_type": "markdown",
   "id": "3581d5c3",
   "metadata": {},
   "source": [
    "---\n",
    "\n",
    "\n",
    "# Insights and key findings:\n",
    "\n",
    "\n",
    "## Recommendatios:\n",
    "\n",
    "The Main recommendation to the decision makers will be to strengthen the On-line channel - marketing and service wise - since the majority of the high credit limit operates there, and there is a higher chance of \"high\" credit customers visiting and operating in this channel.\n",
    "\n",
    "this can result in improving the customer satisfaction with the credit services\n",
    "\n",
    "## Insights:\n",
    "\n",
    "* both models obtained similar results of clustering\n",
    "* the high Credit owners visits the On-Line channel the most\n",
    "* low credit owners still visits to the bank\n"
   ]
  },
  {
   "cell_type": "markdown",
   "id": "73816801",
   "metadata": {},
   "source": [
    "---\n",
    "\n",
    "## Next steps:\n",
    "\n",
    "The next recommended steps:\n",
    "\n",
    "* continue collecting more data with various features to further understand the customer behavior in the On-Line Channel\n",
    "* improve the On-line channel's ability to support the customers\n"
   ]
  }
 ],
 "metadata": {
  "kernelspec": {
   "display_name": "Python 3 (ipykernel)",
   "language": "python",
   "name": "python3"
  },
  "language_info": {
   "codemirror_mode": {
    "name": "ipython",
    "version": 3
   },
   "file_extension": ".py",
   "mimetype": "text/x-python",
   "name": "python",
   "nbconvert_exporter": "python",
   "pygments_lexer": "ipython3",
   "version": "3.9.7"
  }
 },
 "nbformat": 4,
 "nbformat_minor": 5
}
